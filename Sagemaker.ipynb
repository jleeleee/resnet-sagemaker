{
 "cells": [
  {
   "cell_type": "code",
   "execution_count": 1,
   "metadata": {},
   "outputs": [],
   "source": [
    "import sys\n",
    "import importlib\n",
    "import os\n",
    "import boto3\n",
    "import json\n",
    "from sagemaker import get_execution_role\n",
    "from sagemaker.tensorflow import TensorFlow\n",
    "from datetime import datetime\n",
    "import os\n",
    "import pprint\n",
    "import subprocess"
   ]
  },
  {
   "cell_type": "code",
   "execution_count": 2,
   "metadata": {},
   "outputs": [],
   "source": [
    "# Login to ECR and select training image\n",
    "region = \"us-west-2\"\n",
    "set_region = f\"aws configure set region {region} --profile default\"\n",
    "_ = subprocess.check_output(set_region, shell=True)"
   ]
  },
  {
   "cell_type": "code",
   "execution_count": 3,
   "metadata": {},
   "outputs": [],
   "source": [
    "role = get_execution_role()"
   ]
  },
  {
   "cell_type": "code",
   "execution_count": 4,
   "metadata": {},
   "outputs": [],
   "source": [
    "instance_count = 1\n",
    "instance_type = \"local_gpu\"\n",
    "if instance_type=='local_gpu':\n",
    "    local_gpu_count = int(subprocess.check_output(\"nvidia-smi --query-gpu=name --format=csv,noheader | wc -l\", shell=True).decode().strip())\n",
    "processes_per_host = 8 if instance_type in [\"ml.p3dn.24xlarge\", \"ml.p4d.24xlarge\", \"ml.p3.16xlarge\"] \\\n",
    "                     else 4 if instance_type in [\"ml.p3.8xlarge\", \"ml.g4dn.12xlarge\"] \\\n",
    "                     else local_gpu_count if instance_type=='local_gpu' else 1\n",
    "\n"
   ]
  },
  {
   "cell_type": "code",
   "execution_count": 5,
   "metadata": {},
   "outputs": [],
   "source": [
    "user_id = \"jbsnyder\"\n",
    "date_str = datetime.now().strftime(\"%d-%m-%Y\")\n",
    "time_str = datetime.now().strftime(\"%d-%m-%Y-%H-%M-%S\")\n",
    "job_name = '{}-{}'.format(user_id, time_str)"
   ]
  },
  {
   "cell_type": "code",
   "execution_count": 6,
   "metadata": {},
   "outputs": [],
   "source": [
    "s3_bucket = \"jbsnyder-sagemaker-pdx\" if region==\"us-west-2\" else \"jbsnyder-sagemaker-iad\"\n",
    "s3_path = os.path.join('s3://{}/'.format(s3_bucket))\n",
    "\n",
    "s3_data_dir = \"s3://{}/data/\".format(s3_bucket)\n",
    "imagenet_tfrecord = \"imagenet/tfrecord\"\n",
    "\n",
    "channels = {\n",
    "    'train': os.path.join(s3_data_dir, imagenet_tfrecord, 'train'),\n",
    "    'validation': os.path.join(s3_data_dir, imagenet_tfrecord, 'validation')\n",
    "}\n",
    "\n",
    "output_path = os.path.join(s3_path, \"sagemaker-output\", date_str, job_name)\n",
    "\n",
    "code_location = os.path.join(s3_path, \"sagemaker-code\", date_str, job_name)"
   ]
  },
  {
   "cell_type": "code",
   "execution_count": 7,
   "metadata": {},
   "outputs": [],
   "source": [
    "pipe_mode = True\n",
    "\n",
    "hyperparameters = {\"train_data_dir\": \"/opt/ml/input/data/train\",\n",
    "                   \"validation_data_dir\": \"/opt/ml/input/data/validation\",\n",
    "                   \"batch_size\": 2048,\n",
    "                   \"num_epochs\": 120,\n",
    "                   \"model_dir\": \"/opt/ml/checkpoints\",\n",
    "                   \"learning_rate\": 0.1,\n",
    "                   \"momentum\": 0.9,\n",
    "                   \"label_smoothing\": 0.1,\n",
    "                   \"mixup_alpha\": 0.2,\n",
    "                   \"l2_weight_decay\": 2.5e-5,\n",
    "                   \"fp16\": \"True\",\n",
    "                   \"xla\": \"True\",\n",
    "                   \"tf32\": \"True\",\n",
    "                   \"model\": \"resnet152v1_d\",\n",
    "                   \"pipe_mode\": str(pipe_mode)}"
   ]
  },
  {
   "cell_type": "code",
   "execution_count": 8,
   "metadata": {},
   "outputs": [],
   "source": [
    "source_dir = \".\"\n",
    "entry_point = \"train.py\""
   ]
  },
  {
   "cell_type": "code",
   "execution_count": 9,
   "metadata": {},
   "outputs": [],
   "source": [
    "distribution_type='smd' if instance_count>1 else 'hvd'\n",
    "\n",
    "if distribution_type==\"smd\":\n",
    "    distribution = { \"smdistributed\": { \"dataparallel\": { \"enabled\": True } } } \n",
    "elif distribution_type==\"hvd\":\n",
    "    custom_mpi_options = mpi_options = [\n",
    "         '-x TF_CUDNN_USE_AUTOTUNE=0',\n",
    "         '-x FI_EFA_USE_DEVICE_RDMA=1',\n",
    "    ]\n",
    "    distribution = {\n",
    "    \"mpi\": {\n",
    "        \"enabled\": True,\n",
    "        \"processes_per_host\": processes_per_host,\n",
    "        \"custom_mpi_options\": \" \".join(custom_mpi_options)\n",
    "        }\n",
    "    }"
   ]
  },
  {
   "cell_type": "code",
   "execution_count": 10,
   "metadata": {},
   "outputs": [],
   "source": [
    "estimator = TensorFlow(\n",
    "                entry_point=entry_point, \n",
    "                source_dir=source_dir, \n",
    "                framework_version=\"2.4\",\n",
    "                py_version=\"py37\",\n",
    "                role=role,\n",
    "                instance_count=instance_count,\n",
    "                instance_type=instance_type,\n",
    "                distribution=distribution,\n",
    "                output_path=None if \"local\" in instance_type else output_path,\n",
    "                checkpoint_s3_uri=None if \"local\" in instance_type else output_path,\n",
    "                model_dir=None if \"local\" in instance_type else output_path,\n",
    "                hyperparameters=hyperparameters,\n",
    "                volume_size=500,\n",
    "                input_mode=\"Pipe\" if pipe_mode else \"File\",\n",
    "                disable_profiler=True,\n",
    "                debugger_hook_config=False,\n",
    "                code_location=None if \"local\" in instance_type else code_location \n",
    ")"
   ]
  },
  {
   "cell_type": "code",
   "execution_count": null,
   "metadata": {},
   "outputs": [],
   "source": [
    "estimator.fit(channels, wait=True, job_name=job_name)"
   ]
  },
  {
   "cell_type": "code",
   "execution_count": null,
   "metadata": {},
   "outputs": [],
   "source": []
  }
 ],
 "metadata": {
  "kernelspec": {
   "display_name": "Environment (conda_tensorflow2_latest_p37)",
   "language": "python",
   "name": "conda_tensorflow2_latest_p37"
  },
  "language_info": {
   "codemirror_mode": {
    "name": "ipython",
    "version": 3
   },
   "file_extension": ".py",
   "mimetype": "text/x-python",
   "name": "python",
   "nbconvert_exporter": "python",
   "pygments_lexer": "ipython3",
   "version": "3.7.10"
  }
 },
 "nbformat": 4,
 "nbformat_minor": 2
}
